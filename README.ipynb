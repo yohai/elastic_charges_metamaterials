{
 "cells": [
  {
   "cell_type": "code",
   "execution_count": null,
   "metadata": {
    "ExecuteTime": {
     "end_time": "2020-03-05T13:28:06.211940Z",
     "start_time": "2020-03-05T13:28:04.365729Z"
    }
   },
   "outputs": [],
   "source": [
    "import xarray as xr\n",
    "import numpy as np\n",
    "from matplotlib import pyplot as plt\n",
    "import _pickle as pickle\n",
    "\n",
    "import pycharge as pc\n",
    "import meshplots as mp\n",
    "\n",
    "lats = ['square','triangle','rtriangle']"
   ]
  },
  {
   "cell_type": "markdown",
   "metadata": {},
   "source": [
    "# Code"
   ]
  },
  {
   "cell_type": "markdown",
   "metadata": {},
   "source": [
    "The repository contains 4 python files:\n",
    "1. `pycharge.py`:  The main module. Performs calculations such as the interaction matrices, linear response deformation, the young modulus, critical strain at instability, unstable modes, etc.\n",
    "2. `charge_fields.py`: An auxiliary module that calculates the elastic fields of a charges.\n",
    "3. `meshplots.py`: A module to draw nice figures of the metamaterial. See below how to recreate Figures 4,5 from the manuscript.\n",
    "3. `utils.py`: A module with some auxiliary functions"
   ]
  },
  {
   "cell_type": "markdown",
   "metadata": {},
   "source": [
    "# Data"
   ]
  },
  {
   "cell_type": "markdown",
   "metadata": {},
   "source": [
    "The fully nonlinear ABAQUS calculations are at `data/FE/fullfe/`. The raw  data  for the charges-formalism calculations is at `data/charges/` and it is used to compute all the results in the paper, as described below."
   ]
  },
  {
   "cell_type": "markdown",
   "metadata": {},
   "source": [
    "First, calculate interaction matrices of all lattices and all porosities (should take a minute or two):"
   ]
  },
  {
   "cell_type": "code",
   "execution_count": null,
   "metadata": {
    "ExecuteTime": {
     "end_time": "2020-03-05T13:28:06.260877Z",
     "start_time": "2020-03-05T13:28:06.213771Z"
    },
    "scrolled": true
   },
   "outputs": [],
   "source": [
    "dss = {lat: pc.process_lattice(lat, layers_to_keep=1) for lat in lats}"
   ]
  },
  {
   "cell_type": "markdown",
   "metadata": {},
   "source": [
    "Calculate the linear response (should take a second or two): "
   ]
  },
  {
   "cell_type": "code",
   "execution_count": null,
   "metadata": {
    "ExecuteTime": {
     "end_time": "2020-03-05T13:28:07.578553Z",
     "start_time": "2020-03-05T13:28:06.262942Z"
    }
   },
   "outputs": [],
   "source": [
    "lrs = {lat: xr.concat([pc.linear_response(ds.isel(porosity=i)) for i in range(len(ds.porosity))],\n",
    "          'porosity')\n",
    "       for lat, ds in dss.items()}\n",
    "pickle.dump(lrs, open('pkls/linear_response.pkl','wb'))"
   ]
  },
  {
   "cell_type": "markdown",
   "metadata": {
    "ExecuteTime": {
     "end_time": "2020-03-05T10:47:46.118204Z",
     "start_time": "2020-03-05T10:47:46.113987Z"
    }
   },
   "source": [
    "Calculate non linear response. Should less than a minute."
   ]
  },
  {
   "cell_type": "code",
   "execution_count": null,
   "metadata": {
    "ExecuteTime": {
     "end_time": "2020-03-05T13:28:43.435380Z",
     "start_time": "2020-03-05T13:28:07.580418Z"
    }
   },
   "outputs": [],
   "source": [
    "nl = {lat: xr.concat([pc.nl_response(ds.isel(porosity=i), n_modes=100)\n",
    "                      for i in range(len(ds.porosity))], 'porosity')\n",
    "       for lat, ds in lrs.items()}\n",
    "pickle.dump(nl, open('pkls/non_linear.pkl','wb'))"
   ]
  },
  {
   "cell_type": "markdown",
   "metadata": {},
   "source": [
    "#  Visualization"
   ]
  },
  {
   "cell_type": "markdown",
   "metadata": {},
   "source": [
    "All values are computed on an FE grid, which is a pain to visualiize. To plot spatial fields we first need to triangulate. This is done once by running the following function (takes about a minute):"
   ]
  },
  {
   "cell_type": "code",
   "execution_count": null,
   "metadata": {
    "ExecuteTime": {
     "end_time": "2020-03-05T13:28:43.440414Z",
     "start_time": "2020-03-05T13:28:43.437614Z"
    }
   },
   "outputs": [],
   "source": [
    "mp.calculate_and_save_tris(return_result=False)"
   ]
  },
  {
   "cell_type": "code",
   "execution_count": null,
   "metadata": {
    "ExecuteTime": {
     "end_time": "2020-03-05T13:28:46.645640Z",
     "start_time": "2020-03-05T13:28:43.442652Z"
    }
   },
   "outputs": [],
   "source": [
    "%matplotlib inline\n",
    "f,_,_ = mp.linear_figure(p=0.5)"
   ]
  },
  {
   "cell_type": "code",
   "execution_count": null,
   "metadata": {
    "ExecuteTime": {
     "end_time": "2020-03-05T13:28:48.545279Z",
     "start_time": "2020-03-05T13:28:46.647189Z"
    }
   },
   "outputs": [],
   "source": [
    "f,_,_ = mp.instability_figure(p=.7)"
   ]
  }
 ],
 "metadata": {
  "kernelspec": {
   "display_name": "Python 3",
   "language": "python",
   "name": "python3"
  },
  "language_info": {
   "codemirror_mode": {
    "name": "ipython",
    "version": 3
   },
   "file_extension": ".py",
   "mimetype": "text/x-python",
   "name": "python",
   "nbconvert_exporter": "python",
   "pygments_lexer": "ipython3",
   "version": "3.7.4"
  }
 },
 "nbformat": 4,
 "nbformat_minor": 2
}
